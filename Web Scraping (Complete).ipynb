{
 "cells": [
  {
   "cell_type": "markdown",
   "metadata": {},
   "source": [
    "# Basic Description of Cosine Similarity\n",
    "\n",
    "Cosine similarity is, in simple terms, taking the angle between two vectors. In machine learning, cosine similarity can be used to measure how similar two documents are by counting how many times every word appears in a document; these word counts are then put into a vector (1 x n matrix). After two documents have their word counts put into a vector, compare the two documents by calculating the angle between the two vectors by using cosine, which can also be calculated in a vector space by using the following equations:\n",
    "\n",
    "$cos(\\theta) = \\dfrac{A\\cdot B}{\\parallel A\\parallel \\parallel B\\parallel}$ = $\\dfrac{\\sum_{i=1}^{n}A_i B_i}{\\sqrt{\\sum_{i=1}^{n}A_i^2}\\sqrt{\\sum_{i=1}^{n}B_i^2}}$\n",
    "\n",
    "Which is the dot product of the two vectors divided by each vector's euclidean distance multiplied together.\n",
    "\n",
    "* The dot product of two vectors can be defined in the algebraic sense as $A\\cdot B = A_1B_1 + A_2B_2 + \\dots + A_nB_n$\n",
    "\n",
    "* In a geometric sense, the dot product can be defined as $A\\cdot B = \\parallel A \\parallel \\parallel B \\parallel cos(\\theta)$\n",
    "\n",
    "\n",
    "\n",
    "The euclidean norm or euclidean distance is the ordinary distance from the origin to the point x.\n",
    "\n",
    "* Euclidean distance of x: $\\parallel x \\parallel = \\sqrt{x_1^2 + x_2^2 + \\dots + x_n^2}$\n",
    "\n",
    "Knowing all of this, cosine similarity is the algebraic definition of dot product divided by the two vector's euclidean distances to get the $cos(\\theta)$ that resides in the geometric definition of dot product."
   ]
  },
  {
   "cell_type": "code",
   "execution_count": 1,
   "metadata": {},
   "outputs": [],
   "source": [
    "import requests\n",
    "from bs4 import BeautifulSoup\n",
    "\n",
    "#The data is from IMDB\n",
    "url = \"https://www.imdb.com/search/title/?genres=Adventure&sort=user_rating,desc&title_type=feature&num_votes=25000,&pf_rd_m=A2FGELUUNOQJNL&pf_rd_p=5aab685f-35eb-40f3-95f7-c53f09d542c3&pf_rd_r=N97GEQS6R7J9EV7V770D&pf_rd_s=right-6&pf_rd_t=15506&pf_rd_i=top&ref_=chttp_gnr_16\"\n",
    "\n",
    "# Sending a request to the speciifed URL\n",
    "resp = requests.get(url)\n",
    "\n",
    "# Converting the response to Beautiful Soup Object\n",
    "content = BeautifulSoup(resp.content, 'lxml')\n",
    "\n",
    "# Iterating through the list of movies and putting the titles and descriptions into lists.\n",
    "title = []\n",
    "desc = []\n",
    "for movie in content.select('.lister-item-content'):\n",
    "    try:\n",
    "        title.append(movie.select('.lister-item-header')[0].get_text().strip())\n",
    "        desc.append(movie.select('.text-muted')[2].get_text().strip())\n",
    "    except IndexError:\n",
    "        continue\n",
    "\n",
    "# #Removing stop words from every description. Keep titles as is.\n",
    "stopWords = ['the','to','a','from','as','the','with','and','in','of','but','for','it','was','have','on','that','with','at','is','are','be','or','he','his','we','not','has','they','its','by']\n",
    "temp = []\n",
    "for i in desc:\n",
    "    querywords = i.split()\n",
    "    resultWords=[word for word in querywords if word.lower() not in stopWords]\n",
    "    join = ' '.join(resultWords)\n",
    "    temp.append(join)\n",
    "    \n",
    "desc=temp"
   ]
  },
  {
   "cell_type": "code",
   "execution_count": 2,
   "metadata": {},
   "outputs": [
    {
     "data": {
      "text/plain": [
       "'50.\\nQueen\\n(2013)'"
      ]
     },
     "execution_count": 2,
     "metadata": {},
     "output_type": "execute_result"
    }
   ],
   "source": [
    "#Example of a movie title\n",
    "title[49]"
   ]
  },
  {
   "cell_type": "code",
   "execution_count": 3,
   "metadata": {},
   "outputs": [
    {
     "data": {
      "text/plain": [
       "'Delhi girl traditional family sets out solo honeymoon after her marriage gets cancelled.'"
      ]
     },
     "execution_count": 3,
     "metadata": {},
     "output_type": "execute_result"
    }
   ],
   "source": [
    "#Example of a movie description without stop words\n",
    "desc[49]"
   ]
  },
  {
   "cell_type": "code",
   "execution_count": 4,
   "metadata": {},
   "outputs": [],
   "source": [
    "import math\n",
    "import re  #Regular expression operations for unpacking documents\n",
    "from collections import Counter\n",
    "\n",
    "#compiles words (\\w) into a regular expression object\n",
    "WORD = re.compile(r\"\\w+\")\n",
    "\n",
    "\n",
    "#Takes in two vectors, finds the angle between them using cosine\n",
    "def cosSimilarity(vec1, vec2):\n",
    "    intersection = set(vec1.keys()) & set(vec2.keys())\n",
    "    numer = sum([vec1[x] * vec2[x] for x in intersection])\n",
    "\n",
    "    sum1 = sum([vec1[x] ** 2 for x in list(vec1.keys())])\n",
    "    sum2 = sum([vec2[x] ** 2 for x in list(vec2.keys())])\n",
    "    denom = math.sqrt(sum1) * math.sqrt(sum2)\n",
    "\n",
    "    if not denom:\n",
    "        return 0.0\n",
    "    else:\n",
    "        return float(numer) / denom\n",
    "\n",
    "\n",
    "#Counts every word in a document, returns a vector with the counts of each word\n",
    "def textToVector(text):\n",
    "    words = WORD.findall(text)\n",
    "    return Counter(words)"
   ]
  },
  {
   "cell_type": "code",
   "execution_count": 5,
   "metadata": {},
   "outputs": [],
   "source": [
    "import numpy as np\n",
    "from decimal import *\n",
    "\n",
    "#Cap the number of documents taken into matrix, x=y to keep matrix square\n",
    "x = 7\n",
    "y = 7\n",
    "\n",
    "#The matrix that will store all of the cosine similarity values\n",
    "matrix = np.full((x,y),1).astype('float')"
   ]
  },
  {
   "cell_type": "markdown",
   "metadata": {},
   "source": [
    "In this case, I changed the similarity metric into the dissimilarity metric. This is because all linkage (max, single, etc.) uses dissimilarity. Changing similarity to dissimilarity in the (dissimilarity = 1 - similarity) way is possible when the similarity metric is between [-1,1]. Since my cosine similarity implementation uses the definition of cosine similarity, its range is [-1,1] and I am able to convert similarity to dissimilarity in this way. The range of dissimilarity is generally [0,infinity], but in this case the range is [0,2]."
   ]
  },
  {
   "cell_type": "code",
   "execution_count": 6,
   "metadata": {},
   "outputs": [],
   "source": [
    "#Put all of the cosine similarities into the matrix\n",
    "#Disimilarity between one document and itself will always be 0.\n",
    "\n",
    "for i in range(x):\n",
    "    for j in range(y):\n",
    "        vec1 = textToVector(desc[i])\n",
    "        vec2 = textToVector(desc[j])\n",
    "        \n",
    "        #Use 1-similarity to get dissimilarity, round number to 5 decimals\n",
    "        temp = round(1-cosSimilarity(vec1,vec2),5)\n",
    "        matrix[i][j] = temp"
   ]
  },
  {
   "cell_type": "markdown",
   "metadata": {},
   "source": [
    "### Description of Max Linkage\n",
    "\n",
    "Hierarchical cluster analysis is an unsupervised clustering algorithm that tries to build a hierarchy of clusters. The dataset I will be working with has a diagonal of zeroes. The values are also reflected across the diagonal. Matrices such as this are known as distance matrices. Each value is the dissimilarity value of two samples, 1 and the sample in question. For example, the first column and first row sample would be the dissimilarity value between 1 and 1, which is zero. The grid including 1, 2, 3, etc. is shown in the dendrogram graph.\n",
    "\n",
    "The algorithm starts by finding the minimum value in the dataset. There should be at least 2 since the data is reflected across the diagonal. Then the value on the left side of the diagonal searches for the largest value in its row. The value on the left side of the diagonal searches for the largest value in its column. If the dataset is made correctly and the algorithm worked correctly, these two largest values should be the same. The minumum value is replaced with the found largest value. This largest value now represents the dissimilarity value between A and the row and column that were searched through. Then the row and column that were searched through are deleted, and the process begins again. This process is repeated until there is only a two by two square left which houses the maximum dissimilarity value. \n",
    "\n",
    "The clustering portion of this algorithm becomes more clear when the deleted rows and columns are summarized in a dendrogram. "
   ]
  },
  {
   "cell_type": "code",
   "execution_count": 8,
   "metadata": {},
   "outputs": [],
   "source": [
    "import numpy as np\n",
    "\n",
    "def maxLinkage(data):\n",
    "    data=np.array(data)\n",
    "    iter = 0\n",
    "    \n",
    "    #Continue until there are only two columns\n",
    "    while(len(data[0])>2):\n",
    "        \n",
    "        #Remove zeroes from list to find min\n",
    "        listNoZeroes = np.ma.masked_equal(data, 0.0, copy=False)\n",
    "        \n",
    "        #Find minimum value\n",
    "        least = listNoZeroes.min()\n",
    "        index = np.where(data==least)\n",
    "        \n",
    "        #Change rows to max value between the two rows\n",
    "        #Notice that the data will always be a square\n",
    "        for z in range(len(data[0])):\n",
    "            if(data[index[0][0]][z]!=0):\n",
    "                data[index[0][0]][z] = max(data[index[0][0]][z], data[index[1][0]][z])\n",
    "                \n",
    "        #Change columns to max value between two columns\n",
    "        for z in range(len(data[0])):\n",
    "            if(data[z][index[0][0]]!=0):\n",
    "                data[z][index[0][0]] = max(data[z][index[0][0]], data[z][index[1][0]])\n",
    "                \n",
    "        #Delete row and column where min value was\n",
    "        data = np.delete(data,index[1][0], 0)\n",
    "        data = np.delete(data,index[1][0], 1)\n",
    "        \n",
    "        print('Iteration: ', iter)\n",
    "        print(data)\n",
    "        print()\n",
    "        iter +=1\n",
    "        \n",
    "    return data"
   ]
  },
  {
   "cell_type": "code",
   "execution_count": 9,
   "metadata": {},
   "outputs": [],
   "source": [
    "def plot_dendrogram(model, labelled, **kwargs):\n",
    "    # Create linkage matrix and then plot the dendrogram\n",
    "\n",
    "    counts = np.zeros(model.children_.shape[0])\n",
    "    n_samples = len(model.labels_)\n",
    "    for i, merge in enumerate(model.children_):\n",
    "        current_count = 0\n",
    "        for child_idx in merge:\n",
    "            if child_idx < n_samples:\n",
    "                current_count += 1  # leaf node\n",
    "            else:\n",
    "                current_count += counts[child_idx - n_samples]\n",
    "        counts[i] = current_count\n",
    "\n",
    "    linkage_matrix = np.column_stack(\n",
    "        [model.children_, model.distances_, counts]\n",
    "    ).astype(float)\n",
    "\n",
    "    # Plot the corresponding dendrogram\n",
    "    plot = dendrogram(linkage_matrix, **kwargs, labels = labelled)"
   ]
  },
  {
   "cell_type": "code",
   "execution_count": 10,
   "metadata": {},
   "outputs": [
    {
     "name": "stderr",
     "output_type": "stream",
     "text": [
      "C:\\Users\\zacki\\anaconda3\\lib\\site-packages\\sklearn\\cluster\\_agglomerative.py:492: ClusterWarning: scipy.cluster: The symmetric non-negative hollow observation matrix looks suspiciously like an uncondensed distance matrix\n",
      "  out = hierarchy.linkage(X, method=linkage, metric=affinity)\n"
     ]
    },
    {
     "name": "stdout",
     "output_type": "stream",
     "text": [
      "Original\n",
      "[[-0.       0.95623  1.       0.96491  0.95948  1.       0.95623]\n",
      " [ 0.95623 -0.       1.       1.       0.74283  0.83333  0.94444]\n",
      " [ 1.       1.       0.       1.       0.95348  1.       1.     ]\n",
      " [ 0.96491  1.       1.       0.       1.       1.       0.95546]\n",
      " [ 0.95948  0.74283  0.95348  1.       0.       0.94857  0.94857]\n",
      " [ 1.       0.83333  1.       1.       0.94857 -0.       1.     ]\n",
      " [ 0.95623  0.94444  1.       0.95546  0.94857  1.      -0.     ]]\n",
      "\n",
      "Iteration:  0\n",
      "[[-0.       0.95948  1.       0.96491  1.       0.95623]\n",
      " [ 0.95948 -0.       1.       1.       0.94857  0.94857]\n",
      " [ 1.       1.       0.       1.       1.       1.     ]\n",
      " [ 0.96491  1.       1.       0.       1.       0.95546]\n",
      " [ 1.       0.94857  1.       1.      -0.       1.     ]\n",
      " [ 0.95623  0.94857  1.       0.95546  1.      -0.     ]]\n",
      "\n",
      "Iteration:  1\n",
      "[[-0.       1.       1.       0.96491  0.95623]\n",
      " [ 1.      -0.       1.       1.       1.     ]\n",
      " [ 1.       1.       0.       1.       1.     ]\n",
      " [ 0.96491  1.       1.       0.       0.95546]\n",
      " [ 0.95623  1.       1.       0.95546 -0.     ]]\n",
      "\n",
      "Iteration:  2\n",
      "[[-0.       1.       1.       0.96491]\n",
      " [ 1.      -0.       1.       1.     ]\n",
      " [ 1.       1.       0.       1.     ]\n",
      " [ 0.96491  1.       1.       0.     ]]\n",
      "\n",
      "Iteration:  3\n",
      "[[-0.  1.  1.]\n",
      " [ 1. -0.  1.]\n",
      " [ 1.  1.  0.]]\n",
      "\n",
      "Iteration:  4\n",
      "[[-0.  1.]\n",
      " [ 1.  0.]]\n",
      "\n"
     ]
    },
    {
     "data": {
      "text/plain": [
       "array([[-0.,  1.],\n",
       "       [ 1.,  0.]])"
      ]
     },
     "execution_count": 10,
     "metadata": {},
     "output_type": "execute_result"
    },
    {
     "data": {
      "image/png": "[encoded data removed]",
      "text/plain": [
       "<Figure size 432x288 with 1 Axes>"
      ]
     },
     "metadata": {
      "needs_background": "light"
     },
     "output_type": "display_data"
    }
   ],
   "source": [
    "from scipy.cluster.hierarchy import dendrogram\n",
    "from sklearn.cluster import AgglomerativeClustering\n",
    "\n",
    "#Dendrogram graph\n",
    "labels = []\n",
    "for i in range(1,x+1):\n",
    "    labels.append(i)\n",
    "cluster = AgglomerativeClustering(distance_threshold=0, n_clusters=None,linkage = 'complete').fit(matrix)\n",
    "plot = plot_dendrogram(cluster, truncate_mode=\"level\", p=3, labelled = labels)\n",
    "\n",
    "\n",
    "print('Original')\n",
    "print(np.array(matrix))\n",
    "print()\n",
    "maxLinkage(matrix)"
   ]
  },
  {
   "cell_type": "code",
   "execution_count": 11,
   "metadata": {},
   "outputs": [
    {
     "name": "stdout",
     "output_type": "stream",
     "text": [
      "1.\n",
      "Kantara\n",
      "(2022)\n",
      "\n",
      "2.\n",
      "The Lord of the Rings: The Return of the King\n",
      "(2003)\n",
      "\n",
      "3.\n",
      "777 Charlie\n",
      "(2022)\n",
      "\n",
      "4.\n",
      "Inception\n",
      "(2010)\n",
      "\n",
      "5.\n",
      "The Lord of the Rings: The Two Towers\n",
      "(2002)\n",
      "\n",
      "6.\n",
      "The Lord of the Rings: The Fellowship of the Ring\n",
      "(2001)\n",
      "\n",
      "7.\n",
      "The Good, the Bad and the Ugly\n",
      "(1966)\n",
      "\n"
     ]
    }
   ],
   "source": [
    "for i in range(x):\n",
    "    print(title[i])\n",
    "    print()"
   ]
  },
  {
   "cell_type": "markdown",
   "metadata": {},
   "source": [
    "### Interpreting the Dendrogram\n",
    "\n",
    "In this dendrogram, it can be seen that every movie description is dissimilar to each other by the height of the graph. The most similar movies are LOTR Return of the King and LOTR The Two Towers. In that same cluster is LOTR Fellowship of the Ring. In the other cluster, the most similar movie descriptions are Kantara and the Good the Bad and the Ugly. It can be seen that there are two clusters. One consists of all the LOTR movies, and the other cluster has the rest of the movies."
   ]
  },
  {
   "attachments": {
    "dendrogram%20explanation.jpg": {
     "image/jpeg": "[encoded data removed]"
    }
   },
   "cell_type": "markdown",
   "metadata": {},
   "source": [
    "This is how to interpret a dendrogram.\n",
    "\n",
    "![dendrogram%20explanation.jpg](attachment:dendrogram%20explanation.jpg)"
   ]
  }
 ],
 "metadata": {
  "kernelspec": {
   "display_name": "Python 3",
   "language": "python",
   "name": "python3"
  },
  "language_info": {
   "codemirror_mode": {
    "name": "ipython",
    "version": 3
   },
   "file_extension": ".py",
   "mimetype": "text/x-python",
   "name": "python",
   "nbconvert_exporter": "python",
   "pygments_lexer": "ipython3",
   "version": "3.8.5"
  }
 },
 "nbformat": 4,
 "nbformat_minor": 4
}
